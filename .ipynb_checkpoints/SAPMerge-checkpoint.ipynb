{
 "cells": [
  {
   "cell_type": "code",
   "execution_count": 1,
   "id": "091a7d6f-e4ba-4c7b-b8f8-88d49817fe42",
   "metadata": {},
   "outputs": [],
   "source": [
    "#importing the required modules\n",
    "import glob\n",
    "import pandas as pd"
   ]
  },
  {
   "cell_type": "code",
   "execution_count": 9,
   "id": "9433decf-28fb-4911-82be-06a879cb6577",
   "metadata": {},
   "outputs": [],
   "source": [
    "#raw data folder paths\n",
    "rawDataPath = \"C:/Documents/SapRawData\"\n",
    "\n",
    "# file path list using glob\n",
    "file_list = glob.glob(rawDataPath + \"/*.xlsx\")"
   ]
  },
  {
   "cell_type": "code",
   "execution_count": 15,
   "id": "e931eaa5-b2c9-43b5-804b-73ec129e0c19",
   "metadata": {},
   "outputs": [],
   "source": [
    "# we list the excel file we want to merge\n",
    "excl_list = []\n",
    "\n",
    "#we read the files using pd.read and for loop \n",
    "# the we append it to the excl_list\n",
    "\n",
    "for file in file_list:\n",
    "    excl_list.append(pd.read_excel(file))\n",
    "    print(file.shape)"
   ]
  },
  {
   "cell_type": "code",
   "execution_count": 8,
   "id": "62c5e86f-03f1-467a-9a5d-32acba758dbc",
   "metadata": {},
   "outputs": [
    {
     "name": "stdout",
     "output_type": "stream",
     "text": [
      "(0, 0)\n"
     ]
    }
   ],
   "source": [
    "# we create an empty dataframe to store the merged excel file\n",
    "excl_merged = pd.DataFrame()\n",
    "\n",
    "#we loop through our excel list and append to excl_merge\n",
    "for excl_file in excl_list:\n",
    "    excl_merged = excl_merged.append(excl_file, ignore_index = True)\n",
    "print(excl_merged.shape)"
   ]
  },
  {
   "cell_type": "code",
   "execution_count": 5,
   "id": "b24219a6-1215-4911-bbc9-833a0d2e497e",
   "metadata": {},
   "outputs": [
    {
     "data": {
      "text/html": [
       "<div>\n",
       "<style scoped>\n",
       "    .dataframe tbody tr th:only-of-type {\n",
       "        vertical-align: middle;\n",
       "    }\n",
       "\n",
       "    .dataframe tbody tr th {\n",
       "        vertical-align: top;\n",
       "    }\n",
       "\n",
       "    .dataframe thead th {\n",
       "        text-align: right;\n",
       "    }\n",
       "</style>\n",
       "<table border=\"1\" class=\"dataframe\">\n",
       "  <thead>\n",
       "    <tr style=\"text-align: right;\">\n",
       "      <th></th>\n",
       "    </tr>\n",
       "  </thead>\n",
       "  <tbody>\n",
       "  </tbody>\n",
       "</table>\n",
       "</div>"
      ],
      "text/plain": [
       "Empty DataFrame\n",
       "Columns: []\n",
       "Index: []"
      ]
     },
     "execution_count": 5,
     "metadata": {},
     "output_type": "execute_result"
    }
   ],
   "source": [
    "excl_merged"
   ]
  },
  {
   "cell_type": "code",
   "execution_count": 6,
   "id": "03e3e93f-e58f-4ef8-8a7d-a237d6ae6aa7",
   "metadata": {},
   "outputs": [
    {
     "name": "stdout",
     "output_type": "stream",
     "text": [
      "(0, 0)\n"
     ]
    }
   ],
   "source": [
    "print(excl_merged.shape)"
   ]
  },
  {
   "cell_type": "code",
   "execution_count": 7,
   "id": "00bd7601-d969-4a74-9615-536cfdd301de",
   "metadata": {},
   "outputs": [],
   "source": [
    "# exports the dataframe into csv file and is named MergedSap.\n",
    "excl_merged.to_excel('MergedSap.xlsx', index=False)"
   ]
  }
 ],
 "metadata": {
  "kernelspec": {
   "display_name": "Python 3 (ipykernel)",
   "language": "python",
   "name": "python3"
  },
  "language_info": {
   "codemirror_mode": {
    "name": "ipython",
    "version": 3
   },
   "file_extension": ".py",
   "mimetype": "text/x-python",
   "name": "python",
   "nbconvert_exporter": "python",
   "pygments_lexer": "ipython3",
   "version": "3.9.12"
  }
 },
 "nbformat": 4,
 "nbformat_minor": 5
}
